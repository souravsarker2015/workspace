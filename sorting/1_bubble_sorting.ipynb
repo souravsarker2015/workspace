{
 "cells": [
  {
   "metadata": {},
   "cell_type": "markdown",
   "source": "# bubble sort",
   "id": "9b9703a04099fa6d"
  },
  {
   "cell_type": "code",
   "id": "initial_id",
   "metadata": {
    "collapsed": true,
    "ExecuteTime": {
     "end_time": "2024-10-18T17:45:03.230520Z",
     "start_time": "2024-10-18T17:45:03.218934Z"
    }
   },
   "source": [
    "class BubbleSort:\n",
    "    def __init__(self, array):\n",
    "        self.__array = array\n",
    "        self.__is_swapped = False\n",
    "\n",
    "    def execute(self):\n",
    "        self.__sort()\n",
    "        return self.__array\n",
    "\n",
    "    def __sort(self):\n",
    "        for i in range(len(self.__array)):\n",
    "            array_length = len(self.__array)\n",
    "            self.__is_swapped = False\n",
    "\n",
    "            for j in range(0, array_length - i - 1):\n",
    "                if self.__array[j] > self.__array[j + 1]:\n",
    "                    self.__array[j], self.__array[j + 1] = self.__array[j + 1], self.__array[j]\n",
    "                    self.__is_swapped = True\n",
    "\n",
    "            if not self.__is_swapped:\n",
    "                break\n",
    "\n",
    "        return self.__array"
   ],
   "outputs": [],
   "execution_count": 14
  },
  {
   "metadata": {
    "ExecuteTime": {
     "end_time": "2024-10-18T17:45:03.728589Z",
     "start_time": "2024-10-18T17:45:03.722850Z"
    }
   },
   "cell_type": "code",
   "source": [
    "array1 = [2, 34, 5, 3, 2, 1, 3, 45, 67, 5]\n",
    "bubble_array = BubbleSort(array1).execute()"
   ],
   "id": "15a54b4215e00b67",
   "outputs": [],
   "execution_count": 15
  },
  {
   "metadata": {
    "ExecuteTime": {
     "end_time": "2024-10-18T17:45:04.108132Z",
     "start_time": "2024-10-18T17:45:04.096488Z"
    }
   },
   "cell_type": "code",
   "source": "bubble_array",
   "id": "1697290c35b1fce3",
   "outputs": [
    {
     "data": {
      "text/plain": [
       "[1, 2, 2, 3, 3, 5, 5, 34, 45, 67]"
      ]
     },
     "execution_count": 16,
     "metadata": {},
     "output_type": "execute_result"
    }
   ],
   "execution_count": 16
  },
  {
   "metadata": {
    "ExecuteTime": {
     "end_time": "2024-10-18T17:45:04.630543Z",
     "start_time": "2024-10-18T17:45:04.624698Z"
    }
   },
   "cell_type": "code",
   "source": [
    "array1 = [1, 2, 3, 4, 5, 6]\n",
    "bubble_array = BubbleSort(array1).execute()"
   ],
   "id": "8176ddd58de73f36",
   "outputs": [],
   "execution_count": 17
  },
  {
   "metadata": {
    "ExecuteTime": {
     "end_time": "2024-10-18T17:45:05.069808Z",
     "start_time": "2024-10-18T17:45:05.056473Z"
    }
   },
   "cell_type": "code",
   "source": "bubble_array",
   "id": "f51770c2191968bc",
   "outputs": [
    {
     "data": {
      "text/plain": [
       "[1, 2, 3, 4, 5, 6]"
      ]
     },
     "execution_count": 18,
     "metadata": {},
     "output_type": "execute_result"
    }
   ],
   "execution_count": 18
  },
  {
   "metadata": {
    "ExecuteTime": {
     "end_time": "2024-10-18T17:49:16.055049Z",
     "start_time": "2024-10-18T17:49:16.044215Z"
    }
   },
   "cell_type": "code",
   "source": [
    "class BubbleSort:\n",
    "    def __init__(self, array):\n",
    "        self.__array = array\n",
    "        self.__is_swapped = False\n",
    "\n",
    "    def execute(self):\n",
    "        self.__sort()\n",
    "        return self.__array\n",
    "\n",
    "    def __sort(self):\n",
    "        for i in range(len(self.__array)):\n",
    "            array_length = len(self.__array)\n",
    "            self.__is_swapped = False\n",
    "\n",
    "            for j in range(0, array_length - i - 1):\n",
    "                if self.__array[j] > self.__array[j + 1]:\n",
    "                    # self.__array[j], self.__array[j + 1] = self.__array[j + 1], self.__array[j]\n",
    "                    self.__array[j + 1], self.__array[j] = self.__array[j], self.__array[j + 1]\n",
    "                    self.__is_swapped = True\n",
    "\n",
    "            if not self.__is_swapped:\n",
    "                break\n",
    "\n",
    "        return self.__array"
   ],
   "id": "6b1c6f28abba3151",
   "outputs": [],
   "execution_count": 19
  },
  {
   "metadata": {
    "ExecuteTime": {
     "end_time": "2024-10-18T17:49:55.073396Z",
     "start_time": "2024-10-18T17:49:55.068521Z"
    }
   },
   "cell_type": "code",
   "source": [
    "array1 = [2, 34, 5, 3, 2, 1, 3, 45, 67, 5]\n",
    "bubble_array = BubbleSort(array1).execute()"
   ],
   "id": "5e6376cbed6890ef",
   "outputs": [],
   "execution_count": 22
  },
  {
   "metadata": {
    "ExecuteTime": {
     "end_time": "2024-10-18T17:49:55.789665Z",
     "start_time": "2024-10-18T17:49:55.779606Z"
    }
   },
   "cell_type": "code",
   "source": "bubble_array",
   "id": "b8e77e9dbbe07021",
   "outputs": [
    {
     "data": {
      "text/plain": [
       "[1, 2, 2, 3, 3, 5, 5, 34, 45, 67]"
      ]
     },
     "execution_count": 23,
     "metadata": {},
     "output_type": "execute_result"
    }
   ],
   "execution_count": 23
  },
  {
   "metadata": {
    "ExecuteTime": {
     "end_time": "2024-10-18T18:27:05.947500Z",
     "start_time": "2024-10-18T18:27:05.928291Z"
    }
   },
   "cell_type": "code",
   "source": [
    "class BubbleSort:\n",
    "    def __init__(self, array: list):\n",
    "        self.__array = array\n",
    "        self.__array_length = len(self.__array)\n",
    "        self.__is_swapped = False\n",
    "\n",
    "    def execute(self) -> list:\n",
    "        self.__sort()\n",
    "        return self.__array\n",
    "\n",
    "    def __sort(self) -> None:\n",
    "        for i in range(self.__array_length):\n",
    "            self.__is_swapped = False\n",
    "            for j in range(0, self.__array_length - i - 1):\n",
    "                # For ascending order, use '>'\n",
    "                if self.__array[j] < self.__array[j + 1]:\n",
    "                    self.__array[j], self.__array[j + 1] = self.__array[j + 1], self.__array[j]\n",
    "                    self.__is_swapped = True\n",
    "\n",
    "            if not self.__is_swapped:\n",
    "                break\n"
   ],
   "id": "f8fc6ef412e08ace",
   "outputs": [],
   "execution_count": 36
  },
  {
   "metadata": {
    "ExecuteTime": {
     "end_time": "2024-10-18T18:27:06.260412Z",
     "start_time": "2024-10-18T18:27:06.249974Z"
    }
   },
   "cell_type": "code",
   "source": [
    "array1 = [2, 34, 5, 3, 2, 1, 3, 45, 67, 5]\n",
    "bubble_array = BubbleSort(array1).execute()"
   ],
   "id": "23adba706b587b16",
   "outputs": [],
   "execution_count": 37
  },
  {
   "metadata": {
    "ExecuteTime": {
     "end_time": "2024-10-18T18:27:06.699242Z",
     "start_time": "2024-10-18T18:27:06.689193Z"
    }
   },
   "cell_type": "code",
   "source": "bubble_array",
   "id": "ff52dcf01016a6bf",
   "outputs": [
    {
     "data": {
      "text/plain": [
       "[67, 45, 34, 5, 5, 3, 3, 2, 2, 1]"
      ]
     },
     "execution_count": 38,
     "metadata": {},
     "output_type": "execute_result"
    }
   ],
   "execution_count": 38
  },
  {
   "metadata": {
    "ExecuteTime": {
     "end_time": "2024-10-18T18:27:23.647408Z",
     "start_time": "2024-10-18T18:27:23.635578Z"
    }
   },
   "cell_type": "code",
   "source": [
    "array1 = [1, 2, 3, 4, 5, 6]\n",
    "bubble_array = BubbleSort(array1).execute()"
   ],
   "id": "d58d934c01572c6d",
   "outputs": [],
   "execution_count": 39
  },
  {
   "metadata": {
    "ExecuteTime": {
     "end_time": "2024-10-18T18:27:25.904753Z",
     "start_time": "2024-10-18T18:27:25.891244Z"
    }
   },
   "cell_type": "code",
   "source": "bubble_array",
   "id": "89d917854ecaf0d2",
   "outputs": [
    {
     "data": {
      "text/plain": [
       "[6, 5, 4, 3, 2, 1]"
      ]
     },
     "execution_count": 40,
     "metadata": {},
     "output_type": "execute_result"
    }
   ],
   "execution_count": 40
  },
  {
   "metadata": {},
   "cell_type": "code",
   "outputs": [],
   "execution_count": null,
   "source": "",
   "id": "c119c628a397fcaa"
  }
 ],
 "metadata": {
  "kernelspec": {
   "display_name": "Python 3",
   "language": "python",
   "name": "python3"
  },
  "language_info": {
   "codemirror_mode": {
    "name": "ipython",
    "version": 2
   },
   "file_extension": ".py",
   "mimetype": "text/x-python",
   "name": "python",
   "nbconvert_exporter": "python",
   "pygments_lexer": "ipython2",
   "version": "2.7.6"
  }
 },
 "nbformat": 4,
 "nbformat_minor": 5
}
