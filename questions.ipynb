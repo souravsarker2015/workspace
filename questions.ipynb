{
 "cells": [
  {
   "metadata": {},
   "cell_type": "markdown",
   "source": [
    "1. [x] interface concept in python\n",
    "2. [ ] how programming works in pc\n",
    "3. [ ] how python works\n",
    "4. [ ] how programming takes memory in pc\n",
    "5. "
   ],
   "id": "eb51bfd1d636120e"
  },
  {
   "metadata": {},
   "cell_type": "markdown",
   "source": "",
   "id": "6da26d9d069148a3"
  }
 ],
 "metadata": {
  "kernelspec": {
   "display_name": "Python 3",
   "language": "python",
   "name": "python3"
  },
  "language_info": {
   "codemirror_mode": {
    "name": "ipython",
    "version": 2
   },
   "file_extension": ".py",
   "mimetype": "text/x-python",
   "name": "python",
   "nbconvert_exporter": "python",
   "pygments_lexer": "ipython2",
   "version": "2.7.6"
  }
 },
 "nbformat": 4,
 "nbformat_minor": 5
}
