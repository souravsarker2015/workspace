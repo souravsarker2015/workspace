{
 "cells": [
  {
   "metadata": {},
   "cell_type": "markdown",
   "source": [
    "## SOLID principles:\n",
    "SOLID is an acronym that stands for:\n",
    "\n",
    "* Single Responsibility Principle (SRP)\n",
    "* Open/Closed Principle (OCP)\n",
    "* Liskov Substitution Principle (LSP)\n",
    "* Interface Segregation Principle (ISP)\n",
    "* Dependency Inversion Principle (DIP)\n"
   ],
   "id": "cd3121a4fad61d2a"
  },
  {
   "metadata": {},
   "cell_type": "markdown",
   "source": [
    "## Single Responsibility Principle (SRP)\n",
    "A class should have only one reason to change, meaning it should have only one job or responsibility."
   ],
   "id": "212bdf4e6b700777"
  },
  {
   "metadata": {},
   "cell_type": "code",
   "outputs": [],
   "execution_count": null,
   "source": [
    "# Bad example: A class with multiple responsibilities\n",
    "class User:\n",
    "    def __init__(self, name, email):\n",
    "        self.name = name\n",
    "        self.email = email\n",
    "\n",
    "    def save_to_db(self):\n",
    "        # Code to save user to database\n",
    "        pass\n",
    "\n",
    "    def send_email(self, message):\n",
    "        # Code to send email\n",
    "        pass"
   ],
   "id": "9f9aaff7eab98b18"
  },
  {
   "metadata": {},
   "cell_type": "code",
   "outputs": [],
   "execution_count": null,
   "source": [
    "# Good example: Separate classes for each responsibility\n",
    "class UserBaseClass:\n",
    "    def __init__(self, name, email):\n",
    "        self.name = name\n",
    "        self.email = email\n",
    "\n",
    "class UserRepository:\n",
    "    def save(self, user):\n",
    "        # Code to save user to database\n",
    "        pass\n",
    "\n",
    "class EmailService:\n",
    "    def send(self, email, message):\n",
    "        # Code to send email\n",
    "        pass"
   ],
   "id": "9b9a5ce06eeb1cef"
  }
 ],
 "metadata": {
  "kernelspec": {
   "display_name": "Python 3",
   "language": "python",
   "name": "python3"
  },
  "language_info": {
   "codemirror_mode": {
    "name": "ipython",
    "version": 2
   },
   "file_extension": ".py",
   "mimetype": "text/x-python",
   "name": "python",
   "nbconvert_exporter": "python",
   "pygments_lexer": "ipython2",
   "version": "2.7.6"
  }
 },
 "nbformat": 4,
 "nbformat_minor": 5
}
